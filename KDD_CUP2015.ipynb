{
 "cells": [
  {
   "cell_type": "code",
   "execution_count": 1,
   "metadata": {
    "collapsed": true
   },
   "outputs": [],
   "source": [
    "import pandas as pd\n",
    "\n",
    "%matplotlib inline\n",
    "import matplotlib\n",
    "import numpy as np\n",
    "import matplotlib.pyplot as plt"
   ]
  },
  {
   "cell_type": "code",
   "execution_count": 2,
   "metadata": {
    "collapsed": false
   },
   "outputs": [],
   "source": [
    "# Reference File\n",
    "# Date File\n",
    "dt_df = pd.read_csv('data/date.csv')\n",
    "dt_df['from'] = pd.to_datetime(dt_df['from'])\n",
    "dt_df['from_year'] = dt_df['from'].apply(lambda x: x.year)\n",
    "dt_df['from_month'] = dt_df['from'].apply(lambda x: x.month)\n",
    "\n",
    "dt_df['to'] = pd.to_datetime(dt_df['to'])\n",
    "dt_df['to_year'] = dt_df['from'].apply(lambda x: x.year)\n",
    "dt_df['to_month'] = dt_df['from'].apply(lambda x: x.month)\n",
    "\n",
    "# Object File\n",
    "obj_df = pd.read_csv('data/object.csv')\n",
    "obj_df = obj_df.drop_duplicates()[['course_id', 'module_id', 'category', 'start']]\n",
    "#obj_df['start'] = obj_df[obj_df['start'] != 'null']['start'].astype('datetime64')\n",
    "obj_df['start'] = pd.to_datetime(obj_df[obj_df['start'] != 'null']['start'])\n",
    "\n",
    "sample_sub_df = pd.read_csv('data/sampleSubmission.csv', header=None)"
   ]
  },
  {
   "cell_type": "code",
   "execution_count": 3,
   "metadata": {
    "collapsed": false
   },
   "outputs": [],
   "source": [
    "# Train\n",
    "tr_enroll = pd.read_csv('data/train/enrollment_train.csv')\n",
    "tr_log = pd.read_csv('data/train/log_train.csv')\n",
    "tr_log['time'] = pd.to_datetime(tr_log['time'])\n",
    "tr_log['action_date'] = tr_log.time.apply(lambda x: x.date())\n",
    "tr_log['action_dow'] = tr_log['time'].apply(lambda x: x.weekday())\n",
    "tr_truth = pd.read_csv('data/train/truth_train.csv', header=None)\n",
    "    # Test\n",
    "    te_enroll = pd.read_csv('data/test/enrollment_test.csv')\n",
    "    te_log = pd.read_csv('data/test/log_test.csv')"
   ]
  },
  {
   "cell_type": "code",
   "execution_count": 4,
   "metadata": {
    "collapsed": false
   },
   "outputs": [
    {
     "name": "stdout",
     "output_type": "stream",
     "text": [
      "(8157277, 7)\n",
      "(8157277, 18)\n"
     ]
    }
   ],
   "source": [
    "\"\"\"\n",
    "Join All Data files for Training\n",
    "\"\"\"\n",
    "print tr_log.shape\n",
    "big_df = pd.merge(tr_enroll, tr_log, on='enrollment_id', how='left')\n",
    "big_df = pd.merge(big_df, dt_df, on='course_id', how='left')\n",
    "big_df = pd.merge(big_df, obj_df, left_on=['course_id', 'object'], right_on=['course_id', 'module_id'], how='left')\n",
    "print big_df.shape"
   ]
  },
  {
   "cell_type": "code",
   "execution_count": 5,
   "metadata": {
    "collapsed": false
   },
   "outputs": [],
   "source": [
    "big_df['before_end'] = (big_df['to'] - big_df['time']).astype('m8[D]')\n",
    "big_df['after_start'] = (big_df['time'] - big_df['from']).astype('m8[D]')\n",
    "big_df['class_len'] = (big_df['to'] - big_df['from']).astype('m8[D]')\n",
    "big_df['after_module_released'] = (big_df['time'] - big_df['start']).astype('m8[D]')"
   ]
  },
  {
   "cell_type": "code",
   "execution_count": 2,
   "metadata": {
    "collapsed": false,
    "scrolled": true
   },
   "outputs": [
    {
     "ename": "NameError",
     "evalue": "name 'pd' is not defined",
     "output_type": "error",
     "traceback": [
      "\u001b[0;31m---------------------------------------------------------------------------\u001b[0m",
      "\u001b[0;31mNameError\u001b[0m                                 Traceback (most recent call last)",
      "\u001b[0;32m<ipython-input-2-5d4484d66d4c>\u001b[0m in \u001b[0;36m<module>\u001b[0;34m()\u001b[0m\n\u001b[1;32m      1\u001b[0m \u001b[0;31m#pd.merge(enroll_df, log_df, on='enrollment_id', how='left')\u001b[0m\u001b[0;34m\u001b[0m\u001b[0;34m\u001b[0m\u001b[0m\n\u001b[0;32m----> 2\u001b[0;31m \u001b[0mtr_truth\u001b[0m \u001b[0;34m=\u001b[0m \u001b[0mpd\u001b[0m\u001b[0;34m.\u001b[0m\u001b[0mread_csv\u001b[0m\u001b[0;34m(\u001b[0m\u001b[0;34m'data/train/truth_train.csv'\u001b[0m\u001b[0;34m,\u001b[0m \u001b[0mheader\u001b[0m\u001b[0;34m=\u001b[0m\u001b[0mNone\u001b[0m\u001b[0;34m)\u001b[0m\u001b[0;34m\u001b[0m\u001b[0m\n\u001b[0m\u001b[1;32m      3\u001b[0m \u001b[0mtr_truth\u001b[0m\u001b[0;34m\u001b[0m\u001b[0m\n",
      "\u001b[0;31mNameError\u001b[0m: name 'pd' is not defined"
     ]
    }
   ],
   "source": [
    "#pd.merge(enroll_df, log_df, on='enrollment_id', how='left')\n",
    "tr_truth = pd.read_csv('data/train/truth_train.csv', header=None)\n",
    "tr_truth"
   ]
  },
  {
   "cell_type": "code",
   "execution_count": 7,
   "metadata": {
    "collapsed": true
   },
   "outputs": [],
   "source": [
    "def plot_daily_action(x):\n",
    "    df = big_df[big_df['enrollment_id']==x][['source', 'event', 'time', 'action_date', 'before_end']].sort('time')\n",
    "    print df.head()\n",
    "    grp = df.groupby(['before_end','event'])\n",
    "    print grp.count().loc(axis=0)[:,'access']['time']\n",
    "    grp.count().loc(axis=0)[:,'access']['time'].plot()\n",
    "    grp.count().loc(axis=0)[:,'navigate']['time'].plot()\n",
    "    grp.count().loc(axis=0)[:,'page_close']['time'].plot()\n",
    "    grp.count().loc(axis=0)[:,'problem']['time'].plot()"
   ]
  },
  {
   "cell_type": "code",
   "execution_count": 8,
   "metadata": {
    "collapsed": false
   },
   "outputs": [
    {
     "name": "stdout",
     "output_type": "stream",
     "text": [
      "    source     event                time action_date  before_end\n",
      "0   server  navigate 2014-06-14 09:38:29  2014-06-14          26\n",
      "1   server    access 2014-06-14 09:38:39  2014-06-14          26\n",
      "2   server    access 2014-06-14 09:38:39  2014-06-14          26\n",
      "3   server    access 2014-06-14 09:38:48  2014-06-14          26\n",
      "4  browser   problem 2014-06-14 09:41:49  2014-06-14          26\n",
      "before_end  event \n",
      "-1          access    14\n",
      " 0          access     2\n",
      " 5          access     2\n",
      " 6          access    16\n",
      " 8          access    20\n",
      " 9          access     8\n",
      " 10         access     4\n",
      " 13         access    21\n",
      " 16         access     2\n",
      " 18         access     3\n",
      " 19         access     4\n",
      " 21         access     8\n",
      " 26         access     3\n",
      "Name: time, dtype: int64\n"
     ]
    },
    {
     "data": {
      "image/png": "[encoded data removed]",
      "text/plain": [
       "<matplotlib.figure.Figure at 0x109ee1e10>"
      ]
     },
     "metadata": {},
     "output_type": "display_data"
    }
   ],
   "source": [
    "# Populat Server\n",
    "plot_daily_action(1)"
   ]
  },
  {
   "cell_type": "code",
   "execution_count": 89,
   "metadata": {
    "collapsed": false
   },
   "outputs": [
    {
     "name": "stdout",
     "output_type": "stream",
     "text": [
      "courses\n",
      "1     57165\n",
      "2     12958\n",
      "3      4698\n",
      "4      2029\n",
      "5      1048\n",
      "6       511\n",
      "7       309\n",
      "8       159\n",
      "9        99\n",
      "10       66\n",
      "11       38\n",
      "12       23\n",
      "13       26\n",
      "14       19\n",
      "15       13\n",
      "16        9\n",
      "17        4\n",
      "18        3\n",
      "19        1\n",
      "20        1\n",
      "21        4\n",
      "25        2\n",
      "27        1\n",
      "Name: courses, dtype: int64\n"
     ]
    },
    {
     "data": {
      "text/plain": [
       "<matplotlib.axes._subplots.AxesSubplot at 0x121900e90>"
      ]
     },
     "execution_count": 89,
     "metadata": {},
     "output_type": "execute_result"
    },
    {
     "data": {
      "image/png": "[encoded data removed]",
      "text/plain": [
       "<matplotlib.figure.Figure at 0x120810090>"
      ]
     },
     "metadata": {},
     "output_type": "display_data"
    }
   ],
   "source": [
    "\"\"\"\n",
    "Train: # course vs. # students\n",
    "Findings:\n",
    "    - \n",
    "\"\"\"\n",
    "grouped = pd.DataFrame(tr_enroll.username.value_counts().tolist(), columns=['courses']).groupby('courses')\n",
    "print grouped.courses.count()\n",
    "grouped.courses.count().plot()"
   ]
  },
  {
   "cell_type": "code",
   "execution_count": 95,
   "metadata": {
    "collapsed": false
   },
   "outputs": [
    {
     "name": "stdout",
     "output_type": "stream",
     "text": [
      "courses\n",
      "1     45102\n",
      "2      8605\n",
      "3      2693\n",
      "4      1002\n",
      "5       464\n",
      "6       225\n",
      "7       106\n",
      "8        67\n",
      "9        48\n",
      "10       28\n",
      "11        6\n",
      "12        5\n",
      "13        8\n",
      "14        4\n",
      "17        1\n",
      "Name: courses, dtype: int64\n"
     ]
    },
    {
     "data": {
      "text/plain": [
       "<matplotlib.axes._subplots.AxesSubplot at 0x1207eedd0>"
      ]
     },
     "execution_count": 95,
     "metadata": {},
     "output_type": "execute_result"
    },
    {
     "data": {
      "image/png": "[encoded data removed]",
      "text/plain": [
       "<matplotlib.figure.Figure at 0x116e345d0>"
      ]
     },
     "metadata": {},
     "output_type": "display_data"
    }
   ],
   "source": [
    "\"\"\"\n",
    "Test: # course vs. # students\n",
    "Findings:\n",
    "    - \n",
    "\"\"\"\n",
    "grouped = pd.DataFrame(te_enroll.username.value_counts().tolist(), columns=['courses']).groupby('courses')\n",
    "print grouped.courses.count()\n",
    "grouped.courses.count().plot()"
   ]
  },
  {
   "cell_type": "code",
   "execution_count": 18,
   "metadata": {
    "collapsed": false
   },
   "outputs": [
    {
     "data": {
      "text/plain": [
       "0           2\n",
       "1           2\n",
       "2           2\n",
       "3           2\n",
       "4           2\n",
       "5           2\n",
       "6           2\n",
       "7           2\n",
       "8           2\n",
       "9           2\n",
       "10          2\n",
       "11          2\n",
       "12          2\n",
       "13          7\n",
       "14          7\n",
       "15          7\n",
       "16          7\n",
       "17          7\n",
       "18          7\n",
       "19          7\n",
       "20          7\n",
       "21          7\n",
       "22          7\n",
       "23          7\n",
       "24          7\n",
       "25          7\n",
       "26          7\n",
       "27          7\n",
       "28          7\n",
       "29          7\n",
       "           ..\n",
       "8157247    21\n",
       "8157248    21\n",
       "8157249    21\n",
       "8157250    21\n",
       "8157251    21\n",
       "8157252    21\n",
       "8157253    21\n",
       "8157254    21\n",
       "8157255    21\n",
       "8157256    21\n",
       "8157257    21\n",
       "8157258    21\n",
       "8157259    21\n",
       "8157260    21\n",
       "8157261    21\n",
       "8157262    21\n",
       "8157263    21\n",
       "8157264    21\n",
       "8157265    21\n",
       "8157266    21\n",
       "8157267    21\n",
       "8157268    21\n",
       "8157269    21\n",
       "8157270    21\n",
       "8157271    21\n",
       "8157272    21\n",
       "8157273    21\n",
       "8157274    21\n",
       "8157275    21\n",
       "8157276    21\n",
       "Name: after_start, dtype: float64"
      ]
     },
     "execution_count": 18,
     "metadata": {},
     "output_type": "execute_result"
    }
   ],
   "source": [
    "big_df['after_start'].astype('m8[D]')"
   ]
  },
  {
   "cell_type": "code",
   "execution_count": 44,
   "metadata": {
    "collapsed": false
   },
   "outputs": [
    {
     "data": {
      "text/plain": [
       "0    6\n",
       "1    6\n",
       "2    6\n",
       "3    6\n",
       "4    6\n",
       "Name: time, dtype: int64"
      ]
     },
     "execution_count": 44,
     "metadata": {},
     "output_type": "execute_result"
    }
   ],
   "source": [
    "tr_log.head()['time'].apply(lambda x: x.year)\n",
    "tr_log.head()['time'].apply(lambda x: x.month)"
   ]
  },
  {
   "cell_type": "code",
   "execution_count": null,
   "metadata": {
    "collapsed": false
   },
   "outputs": [],
   "source": [
    "pd.merge(tr_enroll, te_enroll, on=['course_id'], how='inner')"
   ]
  },
  {
   "cell_type": "code",
   "execution_count": 35,
   "metadata": {
    "collapsed": false
   },
   "outputs": [
    {
     "data": {
      "text/plain": [
       "0    2014-06-14\n",
       "1    2014-06-14\n",
       "2    2014-06-14\n",
       "3    2014-06-14\n",
       "4    2014-06-14\n",
       "Name: time, dtype: object"
      ]
     },
     "execution_count": 35,
     "metadata": {},
     "output_type": "execute_result"
    }
   ],
   "source": []
  },
  {
   "cell_type": "code",
   "execution_count": 79,
   "metadata": {
    "collapsed": false
   },
   "outputs": [
    {
     "data": {
      "text/html": [
       "<div style=\"max-height:1000px;max-width:1500px;overflow:auto;\">\n",
       "<table border=\"1\" class=\"dataframe\">\n",
       "  <thead>\n",
       "    <tr style=\"text-align: right;\">\n",
       "      <th></th>\n",
       "      <th>0</th>\n",
       "      <th>1</th>\n",
       "    </tr>\n",
       "  </thead>\n",
       "  <tbody>\n",
       "    <tr>\n",
       "      <th>0</th>\n",
       "      <td>1</td>\n",
       "      <td>0</td>\n",
       "    </tr>\n",
       "    <tr>\n",
       "      <th>1</th>\n",
       "      <td>3</td>\n",
       "      <td>0</td>\n",
       "    </tr>\n",
       "    <tr>\n",
       "      <th>2</th>\n",
       "      <td>4</td>\n",
       "      <td>0</td>\n",
       "    </tr>\n",
       "    <tr>\n",
       "      <th>3</th>\n",
       "      <td>5</td>\n",
       "      <td>0</td>\n",
       "    </tr>\n",
       "    <tr>\n",
       "      <th>4</th>\n",
       "      <td>6</td>\n",
       "      <td>0</td>\n",
       "    </tr>\n",
       "    <tr>\n",
       "      <th>5</th>\n",
       "      <td>7</td>\n",
       "      <td>1</td>\n",
       "    </tr>\n",
       "    <tr>\n",
       "      <th>6</th>\n",
       "      <td>9</td>\n",
       "      <td>1</td>\n",
       "    </tr>\n",
       "    <tr>\n",
       "      <th>7</th>\n",
       "      <td>12</td>\n",
       "      <td>0</td>\n",
       "    </tr>\n",
       "    <tr>\n",
       "      <th>8</th>\n",
       "      <td>13</td>\n",
       "      <td>0</td>\n",
       "    </tr>\n",
       "    <tr>\n",
       "      <th>9</th>\n",
       "      <td>14</td>\n",
       "      <td>1</td>\n",
       "    </tr>\n",
       "    <tr>\n",
       "      <th>10</th>\n",
       "      <td>16</td>\n",
       "      <td>0</td>\n",
       "    </tr>\n",
       "    <tr>\n",
       "      <th>11</th>\n",
       "      <td>18</td>\n",
       "      <td>0</td>\n",
       "    </tr>\n",
       "    <tr>\n",
       "      <th>12</th>\n",
       "      <td>20</td>\n",
       "      <td>0</td>\n",
       "    </tr>\n",
       "    <tr>\n",
       "      <th>13</th>\n",
       "      <td>22</td>\n",
       "      <td>1</td>\n",
       "    </tr>\n",
       "    <tr>\n",
       "      <th>14</th>\n",
       "      <td>23</td>\n",
       "      <td>0</td>\n",
       "    </tr>\n",
       "    <tr>\n",
       "      <th>15</th>\n",
       "      <td>26</td>\n",
       "      <td>0</td>\n",
       "    </tr>\n",
       "    <tr>\n",
       "      <th>16</th>\n",
       "      <td>28</td>\n",
       "      <td>1</td>\n",
       "    </tr>\n",
       "    <tr>\n",
       "      <th>17</th>\n",
       "      <td>30</td>\n",
       "      <td>0</td>\n",
       "    </tr>\n",
       "    <tr>\n",
       "      <th>18</th>\n",
       "      <td>31</td>\n",
       "      <td>1</td>\n",
       "    </tr>\n",
       "    <tr>\n",
       "      <th>19</th>\n",
       "      <td>32</td>\n",
       "      <td>0</td>\n",
       "    </tr>\n",
       "    <tr>\n",
       "      <th>20</th>\n",
       "      <td>35</td>\n",
       "      <td>0</td>\n",
       "    </tr>\n",
       "    <tr>\n",
       "      <th>21</th>\n",
       "      <td>39</td>\n",
       "      <td>1</td>\n",
       "    </tr>\n",
       "    <tr>\n",
       "      <th>22</th>\n",
       "      <td>45</td>\n",
       "      <td>0</td>\n",
       "    </tr>\n",
       "    <tr>\n",
       "      <th>23</th>\n",
       "      <td>46</td>\n",
       "      <td>1</td>\n",
       "    </tr>\n",
       "    <tr>\n",
       "      <th>24</th>\n",
       "      <td>48</td>\n",
       "      <td>0</td>\n",
       "    </tr>\n",
       "    <tr>\n",
       "      <th>25</th>\n",
       "      <td>49</td>\n",
       "      <td>0</td>\n",
       "    </tr>\n",
       "    <tr>\n",
       "      <th>26</th>\n",
       "      <td>50</td>\n",
       "      <td>1</td>\n",
       "    </tr>\n",
       "    <tr>\n",
       "      <th>27</th>\n",
       "      <td>51</td>\n",
       "      <td>0</td>\n",
       "    </tr>\n",
       "    <tr>\n",
       "      <th>28</th>\n",
       "      <td>53</td>\n",
       "      <td>0</td>\n",
       "    </tr>\n",
       "    <tr>\n",
       "      <th>29</th>\n",
       "      <td>54</td>\n",
       "      <td>1</td>\n",
       "    </tr>\n",
       "    <tr>\n",
       "      <th>...</th>\n",
       "      <td>...</td>\n",
       "      <td>...</td>\n",
       "    </tr>\n",
       "    <tr>\n",
       "      <th>120512</th>\n",
       "      <td>200859</td>\n",
       "      <td>1</td>\n",
       "    </tr>\n",
       "    <tr>\n",
       "      <th>120513</th>\n",
       "      <td>200860</td>\n",
       "      <td>1</td>\n",
       "    </tr>\n",
       "    <tr>\n",
       "      <th>120514</th>\n",
       "      <td>200861</td>\n",
       "      <td>1</td>\n",
       "    </tr>\n",
       "    <tr>\n",
       "      <th>120515</th>\n",
       "      <td>200862</td>\n",
       "      <td>1</td>\n",
       "    </tr>\n",
       "    <tr>\n",
       "      <th>120516</th>\n",
       "      <td>200863</td>\n",
       "      <td>1</td>\n",
       "    </tr>\n",
       "    <tr>\n",
       "      <th>120517</th>\n",
       "      <td>200866</td>\n",
       "      <td>1</td>\n",
       "    </tr>\n",
       "    <tr>\n",
       "      <th>120518</th>\n",
       "      <td>200867</td>\n",
       "      <td>1</td>\n",
       "    </tr>\n",
       "    <tr>\n",
       "      <th>120519</th>\n",
       "      <td>200868</td>\n",
       "      <td>1</td>\n",
       "    </tr>\n",
       "    <tr>\n",
       "      <th>120520</th>\n",
       "      <td>200873</td>\n",
       "      <td>1</td>\n",
       "    </tr>\n",
       "    <tr>\n",
       "      <th>120521</th>\n",
       "      <td>200875</td>\n",
       "      <td>1</td>\n",
       "    </tr>\n",
       "    <tr>\n",
       "      <th>120522</th>\n",
       "      <td>200876</td>\n",
       "      <td>1</td>\n",
       "    </tr>\n",
       "    <tr>\n",
       "      <th>120523</th>\n",
       "      <td>200878</td>\n",
       "      <td>1</td>\n",
       "    </tr>\n",
       "    <tr>\n",
       "      <th>120524</th>\n",
       "      <td>200879</td>\n",
       "      <td>1</td>\n",
       "    </tr>\n",
       "    <tr>\n",
       "      <th>120525</th>\n",
       "      <td>200880</td>\n",
       "      <td>0</td>\n",
       "    </tr>\n",
       "    <tr>\n",
       "      <th>120526</th>\n",
       "      <td>200881</td>\n",
       "      <td>1</td>\n",
       "    </tr>\n",
       "    <tr>\n",
       "      <th>120527</th>\n",
       "      <td>200882</td>\n",
       "      <td>0</td>\n",
       "    </tr>\n",
       "    <tr>\n",
       "      <th>120528</th>\n",
       "      <td>200883</td>\n",
       "      <td>1</td>\n",
       "    </tr>\n",
       "    <tr>\n",
       "      <th>120529</th>\n",
       "      <td>200885</td>\n",
       "      <td>1</td>\n",
       "    </tr>\n",
       "    <tr>\n",
       "      <th>120530</th>\n",
       "      <td>200887</td>\n",
       "      <td>1</td>\n",
       "    </tr>\n",
       "    <tr>\n",
       "      <th>120531</th>\n",
       "      <td>200888</td>\n",
       "      <td>1</td>\n",
       "    </tr>\n",
       "    <tr>\n",
       "      <th>120532</th>\n",
       "      <td>200889</td>\n",
       "      <td>1</td>\n",
       "    </tr>\n",
       "    <tr>\n",
       "      <th>120533</th>\n",
       "      <td>200893</td>\n",
       "      <td>1</td>\n",
       "    </tr>\n",
       "    <tr>\n",
       "      <th>120534</th>\n",
       "      <td>200895</td>\n",
       "      <td>1</td>\n",
       "    </tr>\n",
       "    <tr>\n",
       "      <th>120535</th>\n",
       "      <td>200896</td>\n",
       "      <td>1</td>\n",
       "    </tr>\n",
       "    <tr>\n",
       "      <th>120536</th>\n",
       "      <td>200897</td>\n",
       "      <td>1</td>\n",
       "    </tr>\n",
       "    <tr>\n",
       "      <th>120537</th>\n",
       "      <td>200898</td>\n",
       "      <td>1</td>\n",
       "    </tr>\n",
       "    <tr>\n",
       "      <th>120538</th>\n",
       "      <td>200900</td>\n",
       "      <td>1</td>\n",
       "    </tr>\n",
       "    <tr>\n",
       "      <th>120539</th>\n",
       "      <td>200901</td>\n",
       "      <td>1</td>\n",
       "    </tr>\n",
       "    <tr>\n",
       "      <th>120540</th>\n",
       "      <td>200904</td>\n",
       "      <td>1</td>\n",
       "    </tr>\n",
       "    <tr>\n",
       "      <th>120541</th>\n",
       "      <td>200905</td>\n",
       "      <td>1</td>\n",
       "    </tr>\n",
       "  </tbody>\n",
       "</table>\n",
       "<p>120542 rows × 2 columns</p>\n",
       "</div>"
      ],
      "text/plain": [
       "             0  1\n",
       "0            1  0\n",
       "1            3  0\n",
       "2            4  0\n",
       "3            5  0\n",
       "4            6  0\n",
       "5            7  1\n",
       "6            9  1\n",
       "7           12  0\n",
       "8           13  0\n",
       "9           14  1\n",
       "10          16  0\n",
       "11          18  0\n",
       "12          20  0\n",
       "13          22  1\n",
       "14          23  0\n",
       "15          26  0\n",
       "16          28  1\n",
       "17          30  0\n",
       "18          31  1\n",
       "19          32  0\n",
       "20          35  0\n",
       "21          39  1\n",
       "22          45  0\n",
       "23          46  1\n",
       "24          48  0\n",
       "25          49  0\n",
       "26          50  1\n",
       "27          51  0\n",
       "28          53  0\n",
       "29          54  1\n",
       "...        ... ..\n",
       "120512  200859  1\n",
       "120513  200860  1\n",
       "120514  200861  1\n",
       "120515  200862  1\n",
       "120516  200863  1\n",
       "120517  200866  1\n",
       "120518  200867  1\n",
       "120519  200868  1\n",
       "120520  200873  1\n",
       "120521  200875  1\n",
       "120522  200876  1\n",
       "120523  200878  1\n",
       "120524  200879  1\n",
       "120525  200880  0\n",
       "120526  200881  1\n",
       "120527  200882  0\n",
       "120528  200883  1\n",
       "120529  200885  1\n",
       "120530  200887  1\n",
       "120531  200888  1\n",
       "120532  200889  1\n",
       "120533  200893  1\n",
       "120534  200895  1\n",
       "120535  200896  1\n",
       "120536  200897  1\n",
       "120537  200898  1\n",
       "120538  200900  1\n",
       "120539  200901  1\n",
       "120540  200904  1\n",
       "120541  200905  1\n",
       "\n",
       "[120542 rows x 2 columns]"
      ]
     },
     "execution_count": 79,
     "metadata": {},
     "output_type": "execute_result"
    }
   ],
   "source": [
    "tr_truth"
   ]
  },
  {
   "cell_type": "code",
   "execution_count": 19,
   "metadata": {
    "collapsed": false
   },
   "outputs": [
    {
     "name": "stdout",
     "output_type": "stream",
     "text": [
      "(80362, 3)\n",
      "25102\n"
     ]
    }
   ],
   "source": [
    "print te_enroll.shape\n",
    "print len(set(te_enroll.username.values.tolist()) & set(tr_enroll.username.values.tolist()))"
   ]
  },
  {
   "cell_type": "code",
   "execution_count": 20,
   "metadata": {
    "collapsed": false
   },
   "outputs": [
    {
     "data": {
      "text/plain": [
       "0.3123615639232473"
      ]
     },
     "execution_count": 20,
     "metadata": {},
     "output_type": "execute_result"
    }
   ],
   "source": [
    "25102.0/80362 "
   ]
  },
  {
   "cell_type": "code",
   "execution_count": 8,
   "metadata": {
    "collapsed": false
   },
   "outputs": [
    {
     "name": "stdout",
     "output_type": "stream",
     "text": [
      "21791\n"
     ]
    }
   ],
   "source": [
    "ans_df = pd.merge(tr_enroll, tr_truth, left_on='enrollment_id', right_on=0, how='left')\n",
    "print len(set(te_enroll.username.values.tolist()) & set(ans_df[ans_df[1]==1].username.values.tolist()))"
   ]
  },
  {
   "cell_type": "code",
   "execution_count": 9,
   "metadata": {
    "collapsed": false
   },
   "outputs": [
    {
     "data": {
      "text/plain": [
       "0.2711604987431871"
      ]
     },
     "execution_count": 9,
     "metadata": {},
     "output_type": "execute_result"
    }
   ],
   "source": [
    "21791.0/80362"
   ]
  },
  {
   "cell_type": "code",
   "execution_count": 13,
   "metadata": {
    "collapsed": false
   },
   "outputs": [
    {
     "name": "stdout",
     "output_type": "stream",
     "text": [
      "39\n",
      "39\n"
     ]
    }
   ],
   "source": [
    "print len(set(te_enroll.course_id.values.tolist()))\n",
    "print len(set(te_enroll.course_id.values.tolist()) & set(tr_enroll.course_id.values.tolist()))"
   ]
  },
  {
   "cell_type": "code",
   "execution_count": 17,
   "metadata": {
    "collapsed": false
   },
   "outputs": [
    {
     "data": {
      "text/plain": [
       "39"
      ]
     },
     "execution_count": 17,
     "metadata": {},
     "output_type": "execute_result"
    }
   ],
   "source": [
    "len(set(tr_enroll.course_id.values.tolist()))"
   ]
  },
  {
   "cell_type": "code",
   "execution_count": null,
   "metadata": {
    "collapsed": true
   },
   "outputs": [],
   "source": []
  }
 ],
 "metadata": {
  "kernelspec": {
   "display_name": "Python 2",
   "language": "python",
   "name": "python2"
  },
  "language_info": {
   "codemirror_mode": {
    "name": "ipython",
    "version": 2
   },
   "file_extension": ".py",
   "mimetype": "text/x-python",
   "name": "python",
   "nbconvert_exporter": "python",
   "pygments_lexer": "ipython2",
   "version": "2.7.6"
  }
 },
 "nbformat": 4,
 "nbformat_minor": 0
}
