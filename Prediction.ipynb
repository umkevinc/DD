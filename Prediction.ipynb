{
 "cells": [
  {
   "cell_type": "code",
   "execution_count": 284,
   "metadata": {
    "collapsed": false
   },
   "outputs": [
    {
     "data": {
      "text/plain": [
       "<module 'features' from 'features.py'>"
      ]
     },
     "execution_count": 284,
     "metadata": {},
     "output_type": "execute_result"
    }
   ],
   "source": [
    "import pandas as pd\n",
    "\n",
    "%matplotlib inline\n",
    "import matplotlib\n",
    "import numpy as np\n",
    "import matplotlib.pyplot as plt\n",
    "\n",
    "import features as fea\n",
    "import data_source as ds\n",
    "reload(ds)\n",
    "reload(fea)"
   ]
  },
  {
   "cell_type": "code",
   "execution_count": 271,
   "metadata": {
    "collapsed": false
   },
   "outputs": [],
   "source": [
    "dt_df = ds.get_date_df()\n",
    "obj_df = ds.get_obj_df()\n",
    "\n",
    "train_enroll = ds.get_enrollment_df('train')\n",
    "train_log = ds.get_log_df('train')\n",
    "train_labels = ds.get_labels_df()\n",
    "\n",
    "test_enroll = ds.get_enrollment_df('test')\n",
    "test_log = ds.get_log_df('test')\n",
    "\n",
    "sample_sub_df = ds.get_sample_submission()"
   ]
  },
  {
   "cell_type": "code",
   "execution_count": 286,
   "metadata": {
    "collapsed": false
   },
   "outputs": [
    {
     "data": {
      "text/plain": [
       "(120542, 3)"
      ]
     },
     "execution_count": 286,
     "metadata": {},
     "output_type": "execute_result"
    }
   ],
   "source": [
    "train_enroll.shape"
   ]
  },
  {
   "cell_type": "code",
   "execution_count": 287,
   "metadata": {
    "collapsed": false
   },
   "outputs": [
    {
     "name": "stdout",
     "output_type": "stream",
     "text": [
      "(120542, 18)\n"
     ]
    }
   ],
   "source": [
    "\"\"\"\n",
    "Base Feature\n",
    "\"\"\"\n",
    "train_base = fea.activity_total_and_percentile(enroll_df=train_enroll, log_df=train_log, dt_df=dt_df).sort('enrollment_id')\n",
    "print train_base.shape"
   ]
  },
  {
   "cell_type": "code",
   "execution_count": 288,
   "metadata": {
    "collapsed": false
   },
   "outputs": [
    {
     "name": "stdout",
     "output_type": "stream",
     "text": [
      "(120542, 26)\n"
     ]
    }
   ],
   "source": [
    "\"\"\"\n",
    "Course Level Feature\n",
    "\"\"\"\n",
    "new_train_base = pd.merge(train_base, fea.avg_activity_per_course_event(enroll_df=train_enroll, log_df=train_log), on=['course_id'], how='left')\n",
    "print new_train_base.shape"
   ]
  },
  {
   "cell_type": "code",
   "execution_count": 289,
   "metadata": {
    "collapsed": false
   },
   "outputs": [
    {
     "name": "stdout",
     "output_type": "stream",
     "text": [
      "(120542, 35)\n"
     ]
    }
   ],
   "source": [
    "\"\"\"\n",
    "Day Range Level Feature\n",
    "\"\"\"\n",
    "whole_new_train_base = pd.merge(new_train_base, fea.activity_filtered(enroll_df=train_enroll, log_df=train_log, dt_df=dt_df), on=['enrollment_id'], how='left')\n",
    "print whole_new_train_base.shape"
   ]
  },
  {
   "cell_type": "code",
   "execution_count": 290,
   "metadata": {
    "collapsed": false
   },
   "outputs": [
    {
     "data": {
      "text/html": [
       "<div style=\"max-height:1000px;max-width:1500px;overflow:auto;\">\n",
       "<table border=\"1\" class=\"dataframe\">\n",
       "  <thead>\n",
       "    <tr style=\"text-align: right;\">\n",
       "      <th></th>\n",
       "      <th>enrollment_id</th>\n",
       "      <th>course_id</th>\n",
       "      <th>prctl_total_activity</th>\n",
       "      <th>total_activity</th>\n",
       "      <th>total_navigate_activity</th>\n",
       "      <th>prctl_navigate_activity</th>\n",
       "      <th>total_access_activity</th>\n",
       "      <th>prctl_access_activity</th>\n",
       "      <th>total_problem_activity</th>\n",
       "      <th>prctl_problem_activity</th>\n",
       "      <th>...</th>\n",
       "      <th>avg_activity_wiki</th>\n",
       "      <th>total_activity_top_5</th>\n",
       "      <th>total_activity_tail_5</th>\n",
       "      <th>total_activity_diff_5</th>\n",
       "      <th>total_activity_top_10</th>\n",
       "      <th>total_activity_tail_10</th>\n",
       "      <th>total_activity_diff_10</th>\n",
       "      <th>total_activity_top_15</th>\n",
       "      <th>total_activity_tail_15</th>\n",
       "      <th>total_activity_diff_15</th>\n",
       "    </tr>\n",
       "  </thead>\n",
       "  <tbody>\n",
       "    <tr>\n",
       "      <th>0</th>\n",
       "      <td>1</td>\n",
       "      <td>DPnLzkJJqOOPRJfBxIHbQEERiYHu5ila</td>\n",
       "      <td>0.947588</td>\n",
       "      <td>314</td>\n",
       "      <td>25</td>\n",
       "      <td>0.872312</td>\n",
       "      <td>107</td>\n",
       "      <td>0.910676</td>\n",
       "      <td>87</td>\n",
       "      <td>0.994042</td>\n",
       "      <td>...</td>\n",
       "      <td>1.889215</td>\n",
       "      <td>13</td>\n",
       "      <td>55</td>\n",
       "      <td>42</td>\n",
       "      <td>57</td>\n",
       "      <td>185</td>\n",
       "      <td>128</td>\n",
       "      <td>129</td>\n",
       "      <td>252</td>\n",
       "      <td>123</td>\n",
       "    </tr>\n",
       "    <tr>\n",
       "      <th>1</th>\n",
       "      <td>3</td>\n",
       "      <td>7GRhBDsirIGkRZBtSMEzNTyDr2JQm4xx</td>\n",
       "      <td>0.881161</td>\n",
       "      <td>288</td>\n",
       "      <td>14</td>\n",
       "      <td>0.847738</td>\n",
       "      <td>79</td>\n",
       "      <td>0.845375</td>\n",
       "      <td>138</td>\n",
       "      <td>0.937542</td>\n",
       "      <td>...</td>\n",
       "      <td>2.228070</td>\n",
       "      <td>31</td>\n",
       "      <td>93</td>\n",
       "      <td>62</td>\n",
       "      <td>61</td>\n",
       "      <td>105</td>\n",
       "      <td>44</td>\n",
       "      <td>183</td>\n",
       "      <td>217</td>\n",
       "      <td>34</td>\n",
       "    </tr>\n",
       "    <tr>\n",
       "      <th>2</th>\n",
       "      <td>4</td>\n",
       "      <td>DPnLzkJJqOOPRJfBxIHbQEERiYHu5ila</td>\n",
       "      <td>0.707227</td>\n",
       "      <td>99</td>\n",
       "      <td>15</td>\n",
       "      <td>0.743703</td>\n",
       "      <td>64</td>\n",
       "      <td>0.791174</td>\n",
       "      <td>6</td>\n",
       "      <td>0.667748</td>\n",
       "      <td>...</td>\n",
       "      <td>1.889215</td>\n",
       "      <td>31</td>\n",
       "      <td>0</td>\n",
       "      <td>-31</td>\n",
       "      <td>43</td>\n",
       "      <td>23</td>\n",
       "      <td>-20</td>\n",
       "      <td>76</td>\n",
       "      <td>47</td>\n",
       "      <td>-29</td>\n",
       "    </tr>\n",
       "    <tr>\n",
       "      <th>3</th>\n",
       "      <td>5</td>\n",
       "      <td>7GRhBDsirIGkRZBtSMEzNTyDr2JQm4xx</td>\n",
       "      <td>0.968940</td>\n",
       "      <td>633</td>\n",
       "      <td>30</td>\n",
       "      <td>0.936529</td>\n",
       "      <td>226</td>\n",
       "      <td>0.957461</td>\n",
       "      <td>170</td>\n",
       "      <td>0.963201</td>\n",
       "      <td>...</td>\n",
       "      <td>2.228070</td>\n",
       "      <td>147</td>\n",
       "      <td>93</td>\n",
       "      <td>-54</td>\n",
       "      <td>179</td>\n",
       "      <td>222</td>\n",
       "      <td>43</td>\n",
       "      <td>411</td>\n",
       "      <td>235</td>\n",
       "      <td>-176</td>\n",
       "    </tr>\n",
       "    <tr>\n",
       "      <th>4</th>\n",
       "      <td>6</td>\n",
       "      <td>AXUJZGmZ0xaYSWazu8RQ1G5c76ECT1Kd</td>\n",
       "      <td>0.627717</td>\n",
       "      <td>23</td>\n",
       "      <td>5</td>\n",
       "      <td>0.620514</td>\n",
       "      <td>12</td>\n",
       "      <td>0.673569</td>\n",
       "      <td>2</td>\n",
       "      <td>0.745531</td>\n",
       "      <td>...</td>\n",
       "      <td>3.573103</td>\n",
       "      <td>0</td>\n",
       "      <td>23</td>\n",
       "      <td>23</td>\n",
       "      <td>0</td>\n",
       "      <td>23</td>\n",
       "      <td>23</td>\n",
       "      <td>0</td>\n",
       "      <td>23</td>\n",
       "      <td>23</td>\n",
       "    </tr>\n",
       "  </tbody>\n",
       "</table>\n",
       "<p>5 rows × 35 columns</p>\n",
       "</div>"
      ],
      "text/plain": [
       "   enrollment_id                         course_id  prctl_total_activity  \\\n",
       "0              1  DPnLzkJJqOOPRJfBxIHbQEERiYHu5ila              0.947588   \n",
       "1              3  7GRhBDsirIGkRZBtSMEzNTyDr2JQm4xx              0.881161   \n",
       "2              4  DPnLzkJJqOOPRJfBxIHbQEERiYHu5ila              0.707227   \n",
       "3              5  7GRhBDsirIGkRZBtSMEzNTyDr2JQm4xx              0.968940   \n",
       "4              6  AXUJZGmZ0xaYSWazu8RQ1G5c76ECT1Kd              0.627717   \n",
       "\n",
       "   total_activity  total_navigate_activity  prctl_navigate_activity  \\\n",
       "0             314                       25                 0.872312   \n",
       "1             288                       14                 0.847738   \n",
       "2              99                       15                 0.743703   \n",
       "3             633                       30                 0.936529   \n",
       "4              23                        5                 0.620514   \n",
       "\n",
       "   total_access_activity  prctl_access_activity  total_problem_activity  \\\n",
       "0                    107               0.910676                      87   \n",
       "1                     79               0.845375                     138   \n",
       "2                     64               0.791174                       6   \n",
       "3                    226               0.957461                     170   \n",
       "4                     12               0.673569                       2   \n",
       "\n",
       "   prctl_problem_activity           ...            avg_activity_wiki  \\\n",
       "0                0.994042           ...                     1.889215   \n",
       "1                0.937542           ...                     2.228070   \n",
       "2                0.667748           ...                     1.889215   \n",
       "3                0.963201           ...                     2.228070   \n",
       "4                0.745531           ...                     3.573103   \n",
       "\n",
       "   total_activity_top_5  total_activity_tail_5  total_activity_diff_5  \\\n",
       "0                    13                     55                     42   \n",
       "1                    31                     93                     62   \n",
       "2                    31                      0                    -31   \n",
       "3                   147                     93                    -54   \n",
       "4                     0                     23                     23   \n",
       "\n",
       "   total_activity_top_10  total_activity_tail_10  total_activity_diff_10  \\\n",
       "0                     57                     185                     128   \n",
       "1                     61                     105                      44   \n",
       "2                     43                      23                     -20   \n",
       "3                    179                     222                      43   \n",
       "4                      0                      23                      23   \n",
       "\n",
       "   total_activity_top_15  total_activity_tail_15  total_activity_diff_15  \n",
       "0                    129                     252                     123  \n",
       "1                    183                     217                      34  \n",
       "2                     76                      47                     -29  \n",
       "3                    411                     235                    -176  \n",
       "4                      0                      23                      23  \n",
       "\n",
       "[5 rows x 35 columns]"
      ]
     },
     "execution_count": 290,
     "metadata": {},
     "output_type": "execute_result"
    }
   ],
   "source": [
    "whole_new_train_base.head()"
   ]
  },
  {
   "cell_type": "code",
   "execution_count": 297,
   "metadata": {
    "collapsed": false
   },
   "outputs": [],
   "source": [
    "whole_new_train_base.columns.tolist()\n",
    "features = [\n",
    " #'course_id',\n",
    " 'prctl_total_activity',\n",
    " 'total_activity',\n",
    " 'total_navigate_activity',\n",
    " 'prctl_navigate_activity',\n",
    " 'total_access_activity',\n",
    " 'prctl_access_activity',\n",
    " 'total_problem_activity',\n",
    " 'prctl_problem_activity',\n",
    " 'total_page_close_activity',\n",
    " 'prctl_page_close_activity',\n",
    " 'total_video_activity',\n",
    " 'prctl_video_activity',\n",
    " 'total_discussion_activity',\n",
    " 'prctl_discussion_activity',\n",
    " 'total_wiki_activity',\n",
    " 'prctl_wiki_activity',\n",
    " 'avg_activity',\n",
    " 'avg_activity_navigate',\n",
    " 'avg_activity_access',\n",
    " 'avg_activity_problem',\n",
    " 'avg_activity_page_close',\n",
    " 'avg_activity_video',\n",
    " 'avg_activity_discussion',\n",
    " 'avg_activity_wiki',\n",
    " 'total_activity_top_5',\n",
    " 'total_activity_tail_5',\n",
    " 'total_activity_diff_5',\n",
    " 'total_activity_top_10',\n",
    " 'total_activity_tail_10',\n",
    " 'total_activity_diff_10',\n",
    " 'total_activity_top_15',\n",
    " 'total_activity_tail_15',\n",
    " 'total_activity_diff_15']\n",
    "train_base = whole_new_train_base[features]\n",
    "labels = train_labels[1]"
   ]
  },
  {
   "cell_type": "code",
   "execution_count": null,
   "metadata": {
    "collapsed": false
   },
   "outputs": [],
   "source": [
    "import sklearn.metrics as metrics\n",
    "from sklearn import cross_validation\n",
    "from sklearn import ensemble, preprocessing\n",
    "from sklearn.cross_validation import train_test_split\n",
    "from sklearn.cross_validation import cross_val_score\n",
    "from sklearn import metrics\n",
    "from sklearn.pipeline import Pipeline\n",
    "# Random Forest Classifier\n",
    "clf = ensemble.RandomForestClassifier(n_jobs=-1, n_estimators=1000, min_samples_split=1)\n",
    "cv = cross_validation.ShuffleSplit(train_base.shape[0], n_iter=5,\n",
    "        test_size=0.3, random_state=0)\n",
    "scores = cross_validation.cross_val_score(\n",
    "            clf, train_base, labels, cv=cv)\n",
    "print(\"Accuracy: %0.5f (+/- %0.2f)\" % (scores.mean(), scores.std() * 2))\n",
    "\n",
    "clf = ensemble.RandomForestClassifier(n_jobs=-1, n_estimators=1000, min_samples_split=1)\n",
    "cv = cross_validation.ShuffleSplit(train_base.shape[0], n_iter=10,\n",
    "        test_size=0.3, random_state=0)\n",
    "scores = cross_validation.cross_val_score(\n",
    "            clf, train_base, labels, cv=cv, scoring='roc_auc')\n",
    "print(\"ROC: %0.5f (+/- %0.2f)\" % (scores.mean(), scores.std() * 2))"
   ]
  },
  {
   "cell_type": "code",
   "execution_count": null,
   "metadata": {
    "collapsed": true
   },
   "outputs": [],
   "source": [
    "clf.fit(train_base, labels)\n",
    "predicted_labels = clf.predict(train_base)"
   ]
  },
  {
   "cell_type": "code",
   "execution_count": null,
   "metadata": {
    "collapsed": true
   },
   "outputs": [],
   "source": [
    "from sklearn.metrics import roc_curve, roc_auc_score\n",
    "fpr = dict()\n",
    "tpr = dict()\n",
    "roc_score = roc_auc_score(labels, predicted_labels)\n",
    "fpr['model'], tpr['model'], _ = roc_curve(labels, predicted_labels)\n",
    "\n",
    "plt.figure()\n",
    "plt.plot(fpr['model'], tpr['model'], label='ROC curve (area = %0.5f)' % roc_score)\n",
    "plt.plot([0, 1], [0, 1], 'k--')\n",
    "plt.xlim([0.0, 0.1])\n",
    "plt.ylim([0.1, 1.05])\n",
    "plt.xlabel('False Positive Rate')\n",
    "plt.ylabel('True Positive Rate')\n",
    "plt.title('Receiver operating characteristic example')\n",
    "plt.legend(loc=\"lower right\")\n",
    "plt.show()"
   ]
  },
  {
   "cell_type": "code",
   "execution_count": null,
   "metadata": {
    "collapsed": true
   },
   "outputs": [],
   "source": []
  }
 ],
 "metadata": {
  "kernelspec": {
   "display_name": "Python 2",
   "language": "python",
   "name": "python2"
  },
  "language_info": {
   "codemirror_mode": {
    "name": "ipython",
    "version": 2
   },
   "file_extension": ".py",
   "mimetype": "text/x-python",
   "name": "python",
   "nbconvert_exporter": "python",
   "pygments_lexer": "ipython2",
   "version": "2.7.6"
  }
 },
 "nbformat": 4,
 "nbformat_minor": 0
}
