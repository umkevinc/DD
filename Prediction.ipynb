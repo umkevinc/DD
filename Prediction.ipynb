{
 "cells": [
  {
   "cell_type": "code",
   "execution_count": 30,
   "metadata": {
    "collapsed": false
   },
   "outputs": [],
   "source": [
    "import pandas as pd\n",
    "\n",
    "%matplotlib inline\n",
    "import matplotlib\n",
    "import numpy as np\n",
    "import matplotlib.pyplot as plt\n",
    "\n",
    "import features as fea\n",
    "import data_source as ds\n",
    "from random import randint\n",
    "reload(ds)\n",
    "reload(fea)\n",
    "\n",
    "import sklearn.metrics as metrics\n",
    "from sklearn import cross_validation\n",
    "from sklearn import ensemble, preprocessing\n",
    "from sklearn.cross_validation import train_test_split\n",
    "from sklearn.cross_validation import cross_val_score\n",
    "from sklearn import metrics\n",
    "from sklearn.pipeline import Pipeline"
   ]
  },
  {
   "cell_type": "code",
   "execution_count": 2,
   "metadata": {
    "collapsed": false
   },
   "outputs": [],
   "source": [
    "dt_df = ds.get_date_df()\n",
    "obj_df = ds.get_obj_df()\n",
    "\n",
    "train_enroll = ds.get_enrollment_df('train')\n",
    "train_log = ds.get_log_df('train')\n",
    "train_labels = ds.get_labels_df()\n",
    "\n",
    "test_enroll = ds.get_enrollment_df('test')\n",
    "test_log = ds.get_log_df('test')\n"
   ]
  },
  {
   "cell_type": "code",
   "execution_count": 3,
   "metadata": {
    "collapsed": false
   },
   "outputs": [
    {
     "data": {
      "text/plain": [
       "(120542, 3)"
      ]
     },
     "execution_count": 3,
     "metadata": {},
     "output_type": "execute_result"
    }
   ],
   "source": [
    "train_enroll.shape"
   ]
  },
  {
   "cell_type": "code",
   "execution_count": 4,
   "metadata": {
    "collapsed": false
   },
   "outputs": [
    {
     "name": "stdout",
     "output_type": "stream",
     "text": [
      "(120542, 19)\n",
      "(120542, 27)\n",
      "(120542, 36)\n",
      "(120542, 75)\n",
      "(120542, 76)\n"
     ]
    }
   ],
   "source": [
    "\"\"\"\n",
    "Base Feature\n",
    "\"\"\"\n",
    "train_base = pd.DataFrame()\n",
    "train_base['enrollment_id'] = train_enroll['enrollment_id']\n",
    "train_base['username'] = train_enroll['username']\n",
    "\n",
    "train_base = pd.merge(train_base, fea.activity_total_and_percentile(enroll_df=train_enroll, log_df=train_log, dt_df=dt_df).sort('enrollment_id'), on=['enrollment_id'], how='left')\n",
    "print train_base.shape\n",
    "\"\"\"\n",
    "Course Level Feature\n",
    "\"\"\"\n",
    "new_train_base = pd.merge(train_base, fea.avg_activity_per_course_event(enroll_df=train_enroll, log_df=train_log), on=['course_id'], how='left')\n",
    "print new_train_base.shape\n",
    "\"\"\"\n",
    "Day Range Level Feature\n",
    "\"\"\"\n",
    "whole_new_train_base = pd.merge(new_train_base, fea.activity_filtered(enroll_df=train_enroll, log_df=train_log, dt_df=dt_df), on=['enrollment_id'], how='left')\n",
    "print whole_new_train_base.shape\n",
    "\"\"\"\n",
    "Enrollment Level - Action Dow\n",
    "\"\"\"\n",
    "# whole_new_train_base = pd.merge(whole_new_train_base, fea.action_dow(enroll_df=train_enroll, log_df=train_log, dt_df=dt_df), on=['enrollment_id'], how='left')\n",
    "# print whole_new_train_base.shape\n",
    "# whole_new_train_base.head()\n",
    "\n",
    "\"\"\"\n",
    "Dummy Course_id Features\n",
    "\"\"\"\n",
    "whole_new_train_base = whole_new_train_base.join(fea.dummy_course_id(enroll_df=train_enroll, log_df=train_log, dt_df=dt_df))\n",
    "print whole_new_train_base.shape\n",
    "\n",
    "# \"\"\"\n",
    "# Add User Drop Rate\n",
    "# \"\"\"\n",
    "# whole_new_train_base = pd.merge(whole_new_train_base, fea.user_drop_rate(enroll_df=train_enroll, df_truth=train_labels), on=['username'], how='left')\n",
    "# print whole_new_train_base.shape\n",
    "\n",
    "\"\"\"\n",
    "Add Course Drop Rate\n",
    "\"\"\"\n",
    "whole_new_train_base = pd.merge(whole_new_train_base, fea.course_drop_rate(enroll_df=train_enroll, df_truth=train_labels), on=['course_id'], how='left')\n",
    "print whole_new_train_base.shape\n"
   ]
  },
  {
   "cell_type": "code",
   "execution_count": 23,
   "metadata": {
    "collapsed": false
   },
   "outputs": [],
   "source": [
    "user_cluster_df = fea.k_mean_user_df(enroll_df=train_enroll, log_df=train_log, dt_df=dt_df)\n",
    "kmean_model, user_label_df = fea.train_kmean(user_cluster_df)\n",
    "whole_new_train_base = pd.merge(whole_new_train_base, user_label_df,  on=['enrollment_id'], how='left')\n",
    "print whole_new_train_base.shape"
   ]
  },
  {
   "cell_type": "code",
   "execution_count": 27,
   "metadata": {
    "collapsed": false
   },
   "outputs": [],
   "source": [
    "final_train_base = whole_new_train_base\n",
    "\n",
    "# Adjust Avg\n",
    "event_list = train_log.event.unique().tolist()\n",
    "final_train_base['diff_activity'] = final_train_base['total_activity'] - final_train_base['avg_activity']\n",
    "for e in event_list:\n",
    "    final_train_base['diff_%s_activity' % e] = final_train_base['total_%s_activity' % e] - final_train_base['avg_activity_%s' % e]\n",
    "\n",
    "log_target = [\n",
    " 'total_activity',\n",
    " 'total_navigate_activity',\n",
    " 'total_access_activity',\n",
    " 'total_problem_activity',\n",
    " 'total_page_close_activity',\n",
    " 'total_video_activity',\n",
    " 'total_discussion_activity', \n",
    " 'total_wiki_activity',\n",
    " 'total_activity_top_5',\n",
    " 'total_activity_tail_5',\n",
    " 'total_activity_top_10',\n",
    " 'total_activity_tail_10',\n",
    " 'total_activity_top_15',\n",
    " 'total_activity_tail_15']\n",
    "log_features = np.log(final_train_base[log_target]+1)\n",
    "features = filter(lambda x: x not in log_target, whole_new_train_base.columns.tolist())\n",
    "final_train_base = final_train_base[features]\n",
    "final_train_base = final_train_base.join(log_features)\n",
    "\n",
    "# Filter\n",
    "blacklist = ['course_id', 'enrollment_id', 'username',\n",
    " 'avg_activity',\n",
    " 'avg_activity_navigate',\n",
    " 'avg_activity_access',\n",
    " 'avg_activity_problem',\n",
    " 'avg_activity_page_close',\n",
    " 'avg_activity_video',\n",
    " 'avg_activity_discussion',\n",
    " 'avg_activity_wiki'] \n",
    "features = filter(lambda x: x not in blacklist, whole_new_train_base.columns.tolist())\n",
    "final_train_base = final_train_base[features]\n",
    "\n",
    "labels = train_labels[1]"
   ]
  },
  {
   "cell_type": "code",
   "execution_count": 40,
   "metadata": {
    "collapsed": false
   },
   "outputs": [
    {
     "data": {
      "text/plain": [
       "(120542, 74)"
      ]
     },
     "execution_count": 40,
     "metadata": {},
     "output_type": "execute_result"
    }
   ],
   "source": [
    "#final_train_base['user_drop_rate']\n",
    "final_train_base.shape"
   ]
  },
  {
   "cell_type": "code",
   "execution_count": 54,
   "metadata": {
    "collapsed": false
   },
   "outputs": [
    {
     "name": "stdout",
     "output_type": "stream",
     "text": [
      "Accuracy: 0.87009 (+/- 0.00)\n",
      "ROC: 0.86662 (+/- 0.00)\n"
     ]
    }
   ],
   "source": [
    "\"\"\"\n",
    "s2-with-percentile\n",
    "Accuracy: 0.87030 (+/- 0.00)\n",
    "ROC: 0.86251 (+/- 0.00)\n",
    "Accuracy: 0.87231 (+/- 0.00)\n",
    "ROC: 0.86287 (+/- 0.00)\n",
    "\"\"\"\n",
    "import sklearn.metrics as metrics\n",
    "from sklearn import cross_validation\n",
    "from sklearn import ensemble, preprocessing\n",
    "from sklearn.cross_validation import train_test_split\n",
    "from sklearn.cross_validation import cross_val_score\n",
    "from sklearn import metrics\n",
    "from sklearn.pipeline import Pipeline\n",
    "# Random Forest Classifier\n",
    "clf = ensemble.RandomForestClassifier(n_jobs=-1, n_estimators=1000, min_samples_split=1, max_depth=3)\n",
    "cv = cross_validation.ShuffleSplit(final_train_base.shape[0], n_iter=3,\n",
    "        test_size=0.3, random_state=0)\n",
    "scores = cross_validation.cross_val_score(\n",
    "            clf, final_train_base, labels, cv=cv)\n",
    "print(\"Accuracy: %0.5f (+/- %0.2f)\" % (scores.mean(), scores.std() * 2))\n",
    "\n",
    "clf = ensemble.RandomForestClassifier(n_jobs=-1, n_estimators=1000, min_samples_split=1, max_depth=3)\n",
    "cv = cross_validation.ShuffleSplit(final_train_base.shape[0], n_iter=3,\n",
    "        test_size=0.3, random_state=0)\n",
    "scores = cross_validation.cross_val_score(\n",
    "            clf, final_train_base, labels, cv=cv, scoring='roc_auc')\n",
    "print(\"ROC: %0.5f (+/- %0.2f)\" % (scores.mean(), scores.std() * 2))"
   ]
  },
  {
   "cell_type": "code",
   "execution_count": 129,
   "metadata": {
    "collapsed": false
   },
   "outputs": [],
   "source": [
    "# Train The Classifier\n",
    "# clf.fit(final_train_base, labels)"
   ]
  },
  {
   "cell_type": "code",
   "execution_count": 33,
   "metadata": {
    "collapsed": false
   },
   "outputs": [
    {
     "name": "stdout",
     "output_type": "stream",
     "text": [
      "(80362, 19)\n",
      "(80362, 27)\n",
      "(80362, 36)\n",
      "(80362, 75)\n",
      "(80362, 76)\n"
     ]
    }
   ],
   "source": [
    "# Load Test\n",
    "# test_enroll = ds.get_enrollment_df('test')\n",
    "# test_log = ds.get_log_df('test')\n",
    "\"\"\"\n",
    "Base Feature\n",
    "\"\"\"\n",
    "test_base = pd.DataFrame()\n",
    "test_base['enrollment_id'] = test_enroll['enrollment_id']\n",
    "test_base['username'] = test_enroll['username']\n",
    "\n",
    "test_base = pd.merge(test_base, fea.activity_total_and_percentile(enroll_df=test_enroll, log_df=test_log, dt_df=dt_df).sort('enrollment_id'), on=['enrollment_id'], how='left')\n",
    "print test_base.shape\n",
    "\"\"\"\n",
    "Course Level Feature\n",
    "\"\"\"\n",
    "new_test_base = pd.merge(test_base, fea.avg_activity_per_course_event(enroll_df=test_enroll, log_df=test_log), on=['course_id'], how='left')\n",
    "print new_test_base.shape\n",
    "\"\"\"\n",
    "Day Range Level Feature\n",
    "\"\"\"\n",
    "whole_new_test_base = pd.merge(new_test_base, fea.activity_filtered(enroll_df=test_enroll, log_df=test_log, dt_df=dt_df), on=['enrollment_id'], how='left')\n",
    "print whole_new_test_base.shape\n",
    "\"\"\"\n",
    "Enrollment Level - Action Dow\n",
    "\"\"\"\n",
    "# whole_new_test_base = pd.merge(whole_new_test_base, fea.action_dow(enroll_df=test_enroll, log_df=test_log, dt_df=dt_df), on=['enrollment_id'], how='left')\n",
    "# print whole_new_test_base.shape\n",
    "# whole_new_test_base.head()\n",
    "\n",
    "\"\"\"\n",
    "Dummy Course_id Features\n",
    "\"\"\"\n",
    "whole_new_test_base = whole_new_test_base.join(fea.dummy_course_id(enroll_df=test_enroll, log_df=test_log, dt_df=dt_df))\n",
    "print whole_new_test_base.shape\n",
    "\n",
    "# \"\"\"\n",
    "# Add User Drop Rate (from Train)\n",
    "# \"\"\"\n",
    "# whole_new_test_base = pd.merge(whole_new_test_base, fea.user_drop_rate(enroll_df=train_enroll, df_truth=train_labels), on=['username'], how='left')\n",
    "# user_drop_mean = whole_new_test_base.user_drop_rate.mean()\n",
    "# whole_new_test_base['user_drop_rate'] = whole_new_test_base.user_drop_rate.fillna(user_drop_mean)\n",
    "# print whole_new_test_base.shape\n",
    "\n",
    "\"\"\"\n",
    "Add Course Drop Rate (from Train)\n",
    "\"\"\"\n",
    "whole_new_test_base = pd.merge(whole_new_test_base, fea.course_drop_rate(enroll_df=train_enroll, df_truth=train_labels), on=['course_id'], how='left')\n",
    "print whole_new_test_base.shape\n"
   ]
  },
  {
   "cell_type": "code",
   "execution_count": 47,
   "metadata": {
    "collapsed": false
   },
   "outputs": [],
   "source": [
    "\"\"\"\n",
    "Add KMean Features\n",
    "\"\"\"\n",
    "user_cluster_df = fea.k_mean_user_df(enroll_df=test_enroll, log_df=test_log, dt_df=dt_df)\n",
    "whole_new_test_base['kmean_labels'] = kmean_model.predict(user_cluster_df.values)"
   ]
  },
  {
   "cell_type": "code",
   "execution_count": 36,
   "metadata": {
    "collapsed": false
   },
   "outputs": [],
   "source": [
    "#whole_new_test_base"
   ]
  },
  {
   "cell_type": "code",
   "execution_count": 48,
   "metadata": {
    "collapsed": true
   },
   "outputs": [],
   "source": [
    "final_test_base = whole_new_test_base\n",
    "\n",
    "# Adjust Avg\n",
    "event_list = test_log.event.unique().tolist()\n",
    "final_test_base['diff_activity'] = final_test_base['total_activity'] - final_test_base['avg_activity']\n",
    "for e in event_list:\n",
    "    final_test_base['diff_%s_activity' % e] = final_test_base['total_%s_activity' % e] - final_test_base['avg_activity_%s' % e]\n",
    "\n",
    "log_target = [\n",
    " 'total_activity',\n",
    " 'total_navigate_activity',\n",
    " 'total_access_activity',\n",
    " 'total_problem_activity',\n",
    " 'total_page_close_activity',\n",
    " 'total_video_activity',\n",
    " 'total_discussion_activity', \n",
    " 'total_wiki_activity',\n",
    " 'total_activity_top_5',\n",
    " 'total_activity_tail_5',\n",
    " 'total_activity_top_10',\n",
    " 'total_activity_tail_10',\n",
    " 'total_activity_top_15',\n",
    " 'total_activity_tail_15']\n",
    "log_features = np.log(final_test_base[log_target]+1)\n",
    "features = filter(lambda x: x not in log_target, whole_new_test_base.columns.tolist())\n",
    "final_test_base = final_test_base[features]\n",
    "final_test_base = final_test_base.join(log_features)\n",
    "\n",
    "# Filter\n",
    "blacklist = ['course_id', 'enrollment_id', 'username',\n",
    " 'avg_activity',\n",
    " 'avg_activity_navigate',\n",
    " 'avg_activity_access',\n",
    " 'avg_activity_problem',\n",
    " 'avg_activity_page_close',\n",
    " 'avg_activity_video',\n",
    " 'avg_activity_discussion',\n",
    " 'avg_activity_wiki'] \n",
    "features = filter(lambda x: x not in blacklist, whole_new_test_base.columns.tolist())\n",
    "final_test_base = final_test_base[features]"
   ]
  },
  {
   "cell_type": "code",
   "execution_count": 49,
   "metadata": {
    "collapsed": false
   },
   "outputs": [
    {
     "data": {
      "text/plain": [
       "set()"
      ]
     },
     "execution_count": 49,
     "metadata": {},
     "output_type": "execute_result"
    }
   ],
   "source": [
    "set(final_test_base.columns.tolist()) ^ set(final_train_base.columns.tolist())"
   ]
  },
  {
   "cell_type": "code",
   "execution_count": 50,
   "metadata": {
    "collapsed": false
   },
   "outputs": [],
   "source": [
    "# Prediction I\n",
    "clf = ensemble.RandomForestClassifier(n_jobs=-1, n_estimators=1000, min_samples_split=1, random_state=0)\n",
    "clf.fit(final_train_base, labels)\n",
    "test_prediction=clf.predict_proba(final_test_base)[:,1]\n",
    "\n",
    "# Prediction II\n",
    "# prediction_list = pd.DataFrame()\n",
    "# for i in range(15):\n",
    "#     print \"iter:%s\" % i\n",
    "#     r_int = randint(1, 100)\n",
    "#     clf = ensemble.RandomForestClassifier(n_jobs=-1, n_estimators=300, min_samples_split=1, random_state=r_int)\n",
    "#     clf.fit(final_train_base, labels)\n",
    "#     prediction_list['r%s' % i] = clf.predict_proba(final_test_base)[:,1]\n",
    "# print prediction_list.head()\n",
    "# test_prediction = prediction_list.mean(axis=1)"
   ]
  },
  {
   "cell_type": "code",
   "execution_count": 13,
   "metadata": {
    "collapsed": false
   },
   "outputs": [
    {
     "data": {
      "text/plain": [
       "<matplotlib.axes._subplots.AxesSubplot at 0x11d877f10>"
      ]
     },
     "execution_count": 13,
     "metadata": {},
     "output_type": "execute_result"
    },
    {
     "data": {
      "image/png": "[encoded data removed]",
      "text/plain": [
       "<matplotlib.figure.Figure at 0x11d877850>"
      ]
     },
     "metadata": {},
     "output_type": "display_data"
    }
   ],
   "source": [
    "pd.DataFrame(test_prediction).plot()"
   ]
  },
  {
   "cell_type": "code",
   "execution_count": 52,
   "metadata": {
    "collapsed": false
   },
   "outputs": [
    {
     "data": {
      "text/plain": [
       "<matplotlib.axes._subplots.AxesSubplot at 0x12a48d650>"
      ]
     },
     "execution_count": 52,
     "metadata": {},
     "output_type": "execute_result"
    },
    {
     "data": {
      "image/png": "[encoded data removed]",
      "text/plain": [
       "<matplotlib.figure.Figure at 0x1113d1a10>"
      ]
     },
     "metadata": {},
     "output_type": "display_data"
    }
   ],
   "source": [
    "pd.DataFrame(test_prediction).plot()"
   ]
  },
  {
   "cell_type": "code",
   "execution_count": 14,
   "metadata": {
    "collapsed": false
   },
   "outputs": [],
   "source": [
    "#Output Submission\n",
    "sample_sub_df = ds.get_sample_submission()\n",
    "sample_sub_df[1] = test_prediction\n",
    "sample_sub_df.to_csv('submission/s6-with-drop-rate.csv', index=False, header=False)"
   ]
  },
  {
   "cell_type": "code",
   "execution_count": null,
   "metadata": {
    "collapsed": true
   },
   "outputs": [],
   "source": [
    "# Smoke Test With ROC Curve\n",
    "predicted_labels = clf.predict_proba(final_train_base)[:,1]\n",
    "from sklearn.metrics import roc_curve, roc_auc_score\n",
    "fpr = dict()\n",
    "tpr = dict()\n",
    "roc_score = roc_auc_score(labels, predicted_labels)\n",
    "fpr['model'], tpr['model'], _ = roc_curve(labels, predicted_labels)\n",
    "\n",
    "plt.figure()\n",
    "plt.plot(fpr['model'], tpr['model'], label='ROC curve (area = %0.5f)' % roc_score)\n",
    "plt.plot([0, 1], [0, 1], 'k--')\n",
    "plt.xlim([0.0, 0.1])\n",
    "plt.ylim([0.1, 1.05])\n",
    "plt.xlabel('False Positive Rate')\n",
    "plt.ylabel('True Positive Rate')\n",
    "plt.title('Receiver operating characteristic')\n",
    "plt.legend(loc=\"lower right\")\n",
    "plt.show()"
   ]
  }
 ],
 "metadata": {
  "kernelspec": {
   "display_name": "Python 2",
   "language": "python",
   "name": "python2"
  },
  "language_info": {
   "codemirror_mode": {
    "name": "ipython",
    "version": 2
   },
   "file_extension": ".py",
   "mimetype": "text/x-python",
   "name": "python",
   "nbconvert_exporter": "python",
   "pygments_lexer": "ipython2",
   "version": "2.7.6"
  }
 },
 "nbformat": 4,
 "nbformat_minor": 0
}
